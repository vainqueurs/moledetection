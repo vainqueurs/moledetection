{
 "cells": [
  {
   "cell_type": "code",
   "execution_count": 1,
   "metadata": {},
   "outputs": [
    {
     "name": "stderr",
     "output_type": "stream",
     "text": [
      "Using TensorFlow backend.\n"
     ]
    }
   ],
   "source": [
    "import tensorflow as tf\n",
    "import keras"
   ]
  },
  {
   "cell_type": "code",
   "execution_count": 2,
   "metadata": {},
   "outputs": [],
   "source": [
    "from keras.backend import tf as K\n",
    "K.reset_default_graph()\n",
    "#K.global_variables_initializer()"
   ]
  },
  {
   "cell_type": "code",
   "execution_count": 3,
   "metadata": {
    "scrolled": false
   },
   "outputs": [],
   "source": [
    "import keras"
   ]
  },
  {
   "cell_type": "code",
   "execution_count": 4,
   "metadata": {},
   "outputs": [
    {
     "name": "stdout",
     "output_type": "stream",
     "text": [
      "G:\\RSAVED\\SCRIPTS\n"
     ]
    }
   ],
   "source": [
    "cd G:/RSAVED/SCRIPTS"
   ]
  },
  {
   "cell_type": "code",
   "execution_count": 5,
   "metadata": {},
   "outputs": [
    {
     "data": {
      "text/plain": [
       "'2.0.8'"
      ]
     },
     "execution_count": 5,
     "metadata": {},
     "output_type": "execute_result"
    }
   ],
   "source": [
    "keras.__version__"
   ]
  },
  {
   "cell_type": "code",
   "execution_count": 6,
   "metadata": {
    "collapsed": true
   },
   "outputs": [],
   "source": [
    "#! pip install flask \n",
    "import h5py\n"
   ]
  },
  {
   "cell_type": "code",
   "execution_count": 7,
   "metadata": {},
   "outputs": [
    {
     "name": "stdout",
     "output_type": "stream",
     "text": [
      "[name: \"/cpu:0\"\n",
      "device_type: \"CPU\"\n",
      "memory_limit: 268435456\n",
      "locality {\n",
      "}\n",
      "incarnation: 1123345012067605547\n",
      ", name: \"/gpu:0\"\n",
      "device_type: \"GPU\"\n",
      "memory_limit: 5391949824\n",
      "locality {\n",
      "  bus_id: 1\n",
      "}\n",
      "incarnation: 7407872422734146621\n",
      "physical_device_desc: \"device: 0, name: GeForce GTX 1060 6GB, pci bus id: 0000:02:00.0\"\n",
      "]\n"
     ]
    }
   ],
   "source": [
    "from tensorflow.python.client import device_lib\n",
    "print(device_lib.list_local_devices())"
   ]
  },
  {
   "cell_type": "code",
   "execution_count": 8,
   "metadata": {
    "collapsed": true
   },
   "outputs": [],
   "source": [
    "from keras.backend import tf as K\n",
    "from keras.models import Sequential\n",
    "from keras.optimizers import SGD\n",
    "from keras.layers.normalization import  BatchNormalization\n",
    "from keras.layers import Input, Dense, Convolution2D, MaxPooling2D, AveragePooling2D, ZeroPadding2D, Dropout, Flatten, merge, Reshape, Activation\n",
    "from sklearn.metrics import log_loss\n",
    "from keras.applications import VGG16, InceptionV3, MobileNet, ResNet50, VGG19, Xception\n",
    "#conv_base = VGG16(weights='imagenet', include_top=False, input_shape=(768, 1024, 3))# initialize with your own image format\n"
   ]
  },
  {
   "cell_type": "code",
   "execution_count": 9,
   "metadata": {},
   "outputs": [],
   "source": [
    "#conv_base = InceptionV3(weights='imagenet', include_top=False, input_shape=(768, 1024, 3))# initialize with your own image format\n",
    "conv_base = VGG16(weights='imagenet', include_top=False, input_shape=(192, 256, 3))# initialize with your own image format\n"
   ]
  },
  {
   "cell_type": "code",
   "execution_count": null,
   "metadata": {},
   "outputs": [],
   "source": []
  },
  {
   "cell_type": "code",
   "execution_count": 10,
   "metadata": {
    "scrolled": true
   },
   "outputs": [
    {
     "name": "stdout",
     "output_type": "stream",
     "text": [
      "_________________________________________________________________\n",
      "Layer (type)                 Output Shape              Param #   \n",
      "=================================================================\n",
      "input_1 (InputLayer)         (None, 192, 256, 3)       0         \n",
      "_________________________________________________________________\n",
      "block1_conv1 (Conv2D)        (None, 192, 256, 64)      1792      \n",
      "_________________________________________________________________\n",
      "block1_conv2 (Conv2D)        (None, 192, 256, 64)      36928     \n",
      "_________________________________________________________________\n",
      "block1_pool (MaxPooling2D)   (None, 96, 128, 64)       0         \n",
      "_________________________________________________________________\n",
      "block2_conv1 (Conv2D)        (None, 96, 128, 128)      73856     \n",
      "_________________________________________________________________\n",
      "block2_conv2 (Conv2D)        (None, 96, 128, 128)      147584    \n",
      "_________________________________________________________________\n",
      "block2_pool (MaxPooling2D)   (None, 48, 64, 128)       0         \n",
      "_________________________________________________________________\n",
      "block3_conv1 (Conv2D)        (None, 48, 64, 256)       295168    \n",
      "_________________________________________________________________\n",
      "block3_conv2 (Conv2D)        (None, 48, 64, 256)       590080    \n",
      "_________________________________________________________________\n",
      "block3_conv3 (Conv2D)        (None, 48, 64, 256)       590080    \n",
      "_________________________________________________________________\n",
      "block3_pool (MaxPooling2D)   (None, 24, 32, 256)       0         \n",
      "_________________________________________________________________\n",
      "block4_conv1 (Conv2D)        (None, 24, 32, 512)       1180160   \n",
      "_________________________________________________________________\n",
      "block4_conv2 (Conv2D)        (None, 24, 32, 512)       2359808   \n",
      "_________________________________________________________________\n",
      "block4_conv3 (Conv2D)        (None, 24, 32, 512)       2359808   \n",
      "_________________________________________________________________\n",
      "block4_pool (MaxPooling2D)   (None, 12, 16, 512)       0         \n",
      "_________________________________________________________________\n",
      "block5_conv1 (Conv2D)        (None, 12, 16, 512)       2359808   \n",
      "_________________________________________________________________\n",
      "block5_conv2 (Conv2D)        (None, 12, 16, 512)       2359808   \n",
      "_________________________________________________________________\n",
      "block5_conv3 (Conv2D)        (None, 12, 16, 512)       2359808   \n",
      "_________________________________________________________________\n",
      "block5_pool (MaxPooling2D)   (None, 6, 8, 512)         0         \n",
      "=================================================================\n",
      "Total params: 14,714,688\n",
      "Trainable params: 14,714,688\n",
      "Non-trainable params: 0\n",
      "_________________________________________________________________\n"
     ]
    }
   ],
   "source": [
    "conv_base.summary()"
   ]
  },
  {
   "cell_type": "code",
   "execution_count": null,
   "metadata": {
    "collapsed": true,
    "scrolled": true
   },
   "outputs": [],
   "source": [
    "\n"
   ]
  },
  {
   "cell_type": "code",
   "execution_count": 11,
   "metadata": {
    "collapsed": true
   },
   "outputs": [],
   "source": [
    "drop=0.7\n",
    "from keras import models\n",
    "from keras import layers\n",
    "from keras import optimizers\n",
    "with tf.device('/gpu:0'):\n",
    "    model = models.Sequential()\n",
    "    for layer in conv_base.layers[:-5]:\n",
    "        layer.trainable = False\n",
    "        model.add(layer)\n",
    "    #model.add(conv_base)\n",
    "#with tf.device('/gpu:0'):\n",
    "    model.add(MaxPooling2D((2,2), strides=(2,2))) \n",
    "    model.add(Convolution2D(512, (3, 3), activation='relu')) \n",
    "    model.add(ZeroPadding2D((1,1))) \n",
    "    model.add(Convolution2D(512, (3, 3), activation='relu')) \n",
    "    model.add(ZeroPadding2D((1,1))) \n",
    "    model.add(Convolution2D(512, (3, 3), activation='relu')) \n",
    "    model.add(ZeroPadding2D((1,1))) \n",
    "    model.add(Convolution2D(512, (3, 3), activation='relu')) \n",
    "    model.add(MaxPooling2D((2,2), strides=(2,2))) \n",
    "    model.add(layers.Flatten())\n",
    "    model.add(BatchNormalization())\n",
    "    model.add(layers.Dense(256, activation='relu'))\n",
    "    model.add(Dropout(drop))\n",
    "    model.add(BatchNormalization())\n",
    "    model.add(layers.Dense(64, activation='relu'))\n",
    "    model.add(Dropout(drop))\n",
    "    model.add(BatchNormalization())\n",
    "    model.add(layers.Dense(16, activation='relu'))\n",
    "    model.add(Dropout(drop))\n",
    "    model.add(BatchNormalization())\n",
    "    model.add(layers.Dense(1, activation='sigmoid'))"
   ]
  },
  {
   "cell_type": "raw",
   "metadata": {
    "collapsed": true
   },
   "source": [
    "drop=0.7\n",
    "from keras import models\n",
    "from keras import layers\n",
    "from keras import optimizers\n",
    "with tf.device('/cpu:0'):\n",
    "    model = models.Sequential()\n",
    "    for layer in conv_base.layers[:-5]:\n",
    "        layer.trainable = False\n",
    "        #model.add(layer)\n",
    "    model.add(conv_base)\n",
    "with tf.device('/gpu:0'):\n",
    "    #model.add(MaxPooling2D((2,2), strides=(2,2))) \n",
    "    model.add(Convolution2D(512, (3, 3), activation='relu')) \n",
    "    model.add(ZeroPadding2D((1,1))) \n",
    "    model.add(Convolution2D(512, (3, 3), activation='relu')) \n",
    "    model.add(ZeroPadding2D((1,1))) \n",
    "    model.add(Convolution2D(512, (3, 3), activation='relu')) \n",
    "    model.add(MaxPooling2D((2,2), strides=(2,2))) \n",
    "    model.add(layers.Flatten())\n",
    "    #model.add(BatchNormalization())\n",
    "    model.add(layers.Dense(256, activation='relu'))\n",
    "    model.add(Dropout(drop))\n",
    "    model.add(BatchNormalization())\n",
    "    model.add(layers.Dense(64, activation='relu'))\n",
    "    model.add(Dropout(drop))\n",
    "    model.add(BatchNormalization())\n",
    "    model.add(layers.Dense(16, activation='relu'))\n",
    "    model.add(Dropout(drop))\n",
    "    model.add(BatchNormalization())\n",
    "    model.add(layers.Dense(1, activation='sigmoid'))"
   ]
  },
  {
   "cell_type": "code",
   "execution_count": 12,
   "metadata": {},
   "outputs": [
    {
     "name": "stdout",
     "output_type": "stream",
     "text": [
      "_________________________________________________________________\n",
      "Layer (type)                 Output Shape              Param #   \n",
      "=================================================================\n",
      "input_1 (InputLayer)         (None, 192, 256, 3)       0         \n",
      "_________________________________________________________________\n",
      "block1_conv1 (Conv2D)        (None, 192, 256, 64)      1792      \n",
      "_________________________________________________________________\n",
      "block1_conv2 (Conv2D)        (None, 192, 256, 64)      36928     \n",
      "_________________________________________________________________\n",
      "block1_pool (MaxPooling2D)   (None, 96, 128, 64)       0         \n",
      "_________________________________________________________________\n",
      "block2_conv1 (Conv2D)        (None, 96, 128, 128)      73856     \n",
      "_________________________________________________________________\n",
      "block2_conv2 (Conv2D)        (None, 96, 128, 128)      147584    \n",
      "_________________________________________________________________\n",
      "block2_pool (MaxPooling2D)   (None, 48, 64, 128)       0         \n",
      "_________________________________________________________________\n",
      "block3_conv1 (Conv2D)        (None, 48, 64, 256)       295168    \n",
      "_________________________________________________________________\n",
      "block3_conv2 (Conv2D)        (None, 48, 64, 256)       590080    \n",
      "_________________________________________________________________\n",
      "block3_conv3 (Conv2D)        (None, 48, 64, 256)       590080    \n",
      "_________________________________________________________________\n",
      "block3_pool (MaxPooling2D)   (None, 24, 32, 256)       0         \n",
      "_________________________________________________________________\n",
      "block4_conv1 (Conv2D)        (None, 24, 32, 512)       1180160   \n",
      "_________________________________________________________________\n",
      "block4_conv2 (Conv2D)        (None, 24, 32, 512)       2359808   \n",
      "_________________________________________________________________\n",
      "block4_conv3 (Conv2D)        (None, 24, 32, 512)       2359808   \n",
      "_________________________________________________________________\n",
      "max_pooling2d_1 (MaxPooling2 (None, 12, 16, 512)       0         \n",
      "_________________________________________________________________\n",
      "conv2d_1 (Conv2D)            (None, 10, 14, 512)       2359808   \n",
      "_________________________________________________________________\n",
      "zero_padding2d_1 (ZeroPaddin (None, 12, 16, 512)       0         \n",
      "_________________________________________________________________\n",
      "conv2d_2 (Conv2D)            (None, 10, 14, 512)       2359808   \n",
      "_________________________________________________________________\n",
      "zero_padding2d_2 (ZeroPaddin (None, 12, 16, 512)       0         \n",
      "_________________________________________________________________\n",
      "conv2d_3 (Conv2D)            (None, 10, 14, 512)       2359808   \n",
      "_________________________________________________________________\n",
      "zero_padding2d_3 (ZeroPaddin (None, 12, 16, 512)       0         \n",
      "_________________________________________________________________\n",
      "conv2d_4 (Conv2D)            (None, 10, 14, 512)       2359808   \n",
      "_________________________________________________________________\n",
      "max_pooling2d_2 (MaxPooling2 (None, 5, 7, 512)         0         \n",
      "_________________________________________________________________\n",
      "flatten_1 (Flatten)          (None, 17920)             0         \n",
      "_________________________________________________________________\n",
      "batch_normalization_1 (Batch (None, 17920)             71680     \n",
      "_________________________________________________________________\n",
      "dense_1 (Dense)              (None, 256)               4587776   \n",
      "_________________________________________________________________\n",
      "dropout_1 (Dropout)          (None, 256)               0         \n",
      "_________________________________________________________________\n",
      "batch_normalization_2 (Batch (None, 256)               1024      \n",
      "_________________________________________________________________\n",
      "dense_2 (Dense)              (None, 64)                16448     \n",
      "_________________________________________________________________\n",
      "dropout_2 (Dropout)          (None, 64)                0         \n",
      "_________________________________________________________________\n",
      "batch_normalization_3 (Batch (None, 64)                256       \n",
      "_________________________________________________________________\n",
      "dense_3 (Dense)              (None, 16)                1040      \n",
      "_________________________________________________________________\n",
      "dropout_3 (Dropout)          (None, 16)                0         \n",
      "_________________________________________________________________\n",
      "batch_normalization_4 (Batch (None, 16)                64        \n",
      "_________________________________________________________________\n",
      "dense_4 (Dense)              (None, 1)                 17        \n",
      "=================================================================\n",
      "Total params: 21,752,801\n",
      "Trainable params: 14,081,025\n",
      "Non-trainable params: 7,671,776\n",
      "_________________________________________________________________\n"
     ]
    }
   ],
   "source": [
    "#for layer in conv_base.layers:\n",
    " #   layer.trainable = False\n",
    "model.summary()"
   ]
  },
  {
   "cell_type": "code",
   "execution_count": 13,
   "metadata": {
    "collapsed": true
   },
   "outputs": [],
   "source": [
    "import numpy as np\n",
    "from  skimage import io\n",
    "import pandas as pd\n"
   ]
  },
  {
   "cell_type": "code",
   "execution_count": 14,
   "metadata": {},
   "outputs": [
    {
     "name": "stdout",
     "output_type": "stream",
     "text": [
      "G:\\rsaved\\ISIC-images\\im\n"
     ]
    }
   ],
   "source": [
    "cd G:\\rsaved\\ISIC-images\\im"
   ]
  },
  {
   "cell_type": "code",
   "execution_count": null,
   "metadata": {
    "collapsed": true
   },
   "outputs": [],
   "source": []
  },
  {
   "cell_type": "code",
   "execution_count": 15,
   "metadata": {
    "collapsed": true
   },
   "outputs": [],
   "source": [
    "filename =  'Benign/ISIC_0009872.jpg'\n",
    "y=filename.split('/')[0]\n",
    "X=io.imread('Benign/ISIC_0009872.jpg')"
   ]
  },
  {
   "cell_type": "code",
   "execution_count": 16,
   "metadata": {},
   "outputs": [
    {
     "name": "stdout",
     "output_type": "stream",
     "text": [
      "Benign/ISIC_0009872.jpg\n",
      "0\n"
     ]
    },
    {
     "name": "stderr",
     "output_type": "stream",
     "text": [
      "G:\\TESTS\\envs\\kerasbefore\\lib\\site-packages\\skimage\\transform\\_warps.py:84: UserWarning: The default mode, 'constant', will be changed to 'reflect' in skimage 0.15.\n",
      "  warn(\"The default mode, 'constant', will be changed to 'reflect' in \"\n"
     ]
    }
   ],
   "source": [
    "\n",
    "# extract features for images and create labels from the names of the folders\n",
    "import os, sys \n",
    "from skimage.transform import rescale, resize, downscale_local_mean\n",
    "\n",
    "def resizeimage(IMAGES,factor):\n",
    "    ima=[]\n",
    "    try:\n",
    "        image_rescaled = rescale(IMAGES, factor)\n",
    "        #ima.append(out)\n",
    "\n",
    "    except Exception as e:\n",
    "        print(e)\n",
    "    return(image_rescaled)\n",
    "#mod = resizeimage(X_train)\n",
    "\n",
    "def extract(filename =  'Benign/ISIC_0009872.jpg'):\n",
    "    X=0\n",
    "    y=0\n",
    "    try:\n",
    "        print(filename)\n",
    "        X=io.imread(filename) # extract pixel features \n",
    "        X= resizeimage(X,0.25)\n",
    "        y=filename.split('/ISIC')[0]\n",
    "        if y=='Benign': # create label\n",
    "            y=0\n",
    "        else:\n",
    "            y=1\n",
    "        print(y)\n",
    "    except:\n",
    "        print('error' + filename)\n",
    "    return X,y\n",
    "q=extract()"
   ]
  },
  {
   "cell_type": "code",
   "execution_count": null,
   "metadata": {
    "collapsed": true
   },
   "outputs": [],
   "source": []
  },
  {
   "cell_type": "code",
   "execution_count": 17,
   "metadata": {
    "collapsed": true,
    "scrolled": true
   },
   "outputs": [],
   "source": [
    "def createdata(): \n",
    "    X_train = []\n",
    "    y_train=[]\n",
    "    counter = 0\n",
    "    names = ['Benign','Malignant']\n",
    "    for folder in names:\n",
    "        count=0\n",
    "        print(folder)\n",
    "\n",
    "        for fil in os.listdir(folder):\n",
    "            if count <355:\n",
    "\n",
    "                q=None\n",
    "\n",
    "                try:\n",
    "                    q=extract(folder+'/'+fil)\n",
    "                    #print(q[0][2].shape)\n",
    "                    if q[0][2].shape == (256,3):\n",
    "                        X_train.append(q[0])\n",
    "                        y_train.append(q[1])\n",
    "                        count +=1\n",
    "                        counter +=1\n",
    "                except:\n",
    "                    pass\n",
    "            else:\n",
    "                continue\n",
    "        print(count,fil)\n",
    "    return(X_train,y_train)\n",
    "#X, y = createdata()        "
   ]
  },
  {
   "cell_type": "code",
   "execution_count": 21,
   "metadata": {
    "scrolled": true
   },
   "outputs": [],
   "source": [
    "from keras.layers import Lambda, Input\n",
    "X_train = []\n",
    "y_train=[]\n",
    "counter = 0 \n",
    "\n",
    "def createdata(maxclass): \n",
    "    names = ['Benign','Malignant']\n",
    "    for folder in names:\n",
    "        count=0\n",
    "        print(folder)\n",
    "        \n",
    "        for fil in os.listdir(folder):\n",
    "            if count <maxclass:\n",
    "                count +=1\n",
    "                q=None\n",
    "                #print(fil)\n",
    "                try:\n",
    "                    q=extract(folder+'/'+fil)\n",
    "                    print(q[0][2].shape)\n",
    "                    if q[0][2].shape == (256,3):\n",
    "                        X_train.append(q[0])\n",
    "                        y_train.append(q[1])\n",
    "                        counter +=1\n",
    "                except:\n",
    "                    pass\n",
    "            else:\n",
    "                continue\n",
    "    return(X_train,y_train)\n",
    "#X, y = createdata(1000)     "
   ]
  },
  {
   "cell_type": "code",
   "execution_count": 20,
   "metadata": {
    "scrolled": false
   },
   "outputs": [
    {
     "data": {
      "text/plain": [
       "(1351, 1351)"
      ]
     },
     "execution_count": 20,
     "metadata": {},
     "output_type": "execute_result"
    }
   ],
   "source": [
    "len(X),len(y)"
   ]
  },
  {
   "cell_type": "code",
   "execution_count": 22,
   "metadata": {
    "collapsed": true
   },
   "outputs": [],
   "source": [
    "# convert the X_train list into an array with one additionnal dimension by stacking elements of the list \n",
    "c= np.stack([X[i] for i in range(len(X))])\n",
    "\n",
    "d= np.array([y]).T"
   ]
  },
  {
   "cell_type": "code",
   "execution_count": 23,
   "metadata": {},
   "outputs": [
    {
     "data": {
      "text/plain": [
       "array([[0],\n",
       "       [0],\n",
       "       [0],\n",
       "       ..., \n",
       "       [1],\n",
       "       [1],\n",
       "       [1]])"
      ]
     },
     "execution_count": 23,
     "metadata": {},
     "output_type": "execute_result"
    }
   ],
   "source": [
    "d"
   ]
  },
  {
   "cell_type": "code",
   "execution_count": 24,
   "metadata": {
    "collapsed": true
   },
   "outputs": [],
   "source": [
    "from sklearn.utils import shuffle\n",
    "X_train, y_train = shuffle(c, d, random_state=3)\n",
    "#X_train=X_train-np.mean(X_train)/np.std(X_train)"
   ]
  },
  {
   "cell_type": "code",
   "execution_count": 25,
   "metadata": {},
   "outputs": [
    {
     "data": {
      "text/plain": [
       "353"
      ]
     },
     "execution_count": 25,
     "metadata": {},
     "output_type": "execute_result"
    }
   ],
   "source": [
    "np.sum(y_train)"
   ]
  },
  {
   "cell_type": "code",
   "execution_count": 27,
   "metadata": {},
   "outputs": [],
   "source": [
    "model.compile(loss='binary_crossentropy', optimizer=optimizers.rmsprop(0.0085), metrics=['accuracy'])"
   ]
  },
  {
   "cell_type": "code",
   "execution_count": null,
   "metadata": {
    "scrolled": true
   },
   "outputs": [],
   "source": []
  },
  {
   "cell_type": "code",
   "execution_count": 68,
   "metadata": {
    "collapsed": true
   },
   "outputs": [],
   "source": [
    "#CALLBACKS\n",
    "from keras.callbacks import *\n",
    "#This line creates a Callback Tensorboard object, you should capture that object and give it to the fit function of your model.\n",
    "tense = keras.callbacks.TensorBoard(log_dir='C:/RSAVED/Scripts/Graph', histogram_freq=1, write_graph=True, write_images=False)\n",
    "\n",
    "class_weight = {0 : 1.,1: 2.87}\n",
    "# create checkpoints that we can load later to keep the best model \n",
    "from keras.callbacks import ModelCheckpoint\n",
    "filepath=\"weights-improvement-{epoch:02d}-{val_acc:.2f}.hdf5\"\n",
    "checkpoint = ModelCheckpoint(filepath, monitor='val_acc', verbose=1, save_best_only=True, mode='max')\n",
    "tense.set_model(model)\n"
   ]
  },
  {
   "cell_type": "code",
   "execution_count": null,
   "metadata": {
    "scrolled": true
   },
   "outputs": [
    {
     "name": "stderr",
     "output_type": "stream",
     "text": [
      "G:\\TESTS\\envs\\kerasbefore\\lib\\site-packages\\keras\\models.py:848: UserWarning: The `nb_epoch` argument in `fit` has been renamed `epochs`.\n",
      "  warnings.warn('The `nb_epoch` argument in `fit` '\n"
     ]
    },
    {
     "name": "stdout",
     "output_type": "stream",
     "text": [
      "Train on 880 samples, validate on 220 samples\n",
      "Epoch 1/500\n",
      "Epoch 00000: val_acc improved from -inf to 0.86364, saving model to weights-improvement-00-0.86.hdf5\n",
      "26s - loss: 0.7153 - acc: 0.7875 - val_loss: 1.8316 - val_acc: 0.8636\n",
      "Epoch 2/500\n",
      "Epoch 00001: val_acc did not improve\n",
      "24s - loss: 0.8089 - acc: 0.7670 - val_loss: 2.5493 - val_acc: 0.5591\n",
      "Epoch 3/500\n",
      "Epoch 00002: val_acc did not improve\n",
      "24s - loss: 0.7976 - acc: 0.7580 - val_loss: 1.5519 - val_acc: 0.8091\n",
      "Epoch 4/500\n",
      "Epoch 00003: val_acc did not improve\n",
      "24s - loss: 0.8603 - acc: 0.7511 - val_loss: 1.2054 - val_acc: 0.7955\n",
      "Epoch 5/500\n",
      "Epoch 00004: val_acc did not improve\n",
      "24s - loss: 0.8090 - acc: 0.7250 - val_loss: 1.9415 - val_acc: 0.8045\n",
      "Epoch 6/500\n",
      "Epoch 00005: val_acc improved from 0.86364 to 0.87727, saving model to weights-improvement-05-0.88.hdf5\n",
      "24s - loss: 0.8308 - acc: 0.7455 - val_loss: 1.2453 - val_acc: 0.8773\n",
      "Epoch 7/500\n",
      "Epoch 00006: val_acc did not improve\n",
      "24s - loss: 0.7479 - acc: 0.7966 - val_loss: 1.8413 - val_acc: 0.7545\n",
      "Epoch 8/500\n",
      "Epoch 00007: val_acc did not improve\n",
      "24s - loss: 0.7672 - acc: 0.7659 - val_loss: 8.5904 - val_acc: 0.3227\n",
      "Epoch 9/500\n",
      "Epoch 00008: val_acc did not improve\n",
      "24s - loss: 0.8004 - acc: 0.7580 - val_loss: 3.8498 - val_acc: 0.5045\n",
      "Epoch 10/500\n",
      "Epoch 00009: val_acc did not improve\n",
      "24s - loss: 0.7875 - acc: 0.7670 - val_loss: 2.5044 - val_acc: 0.8091\n",
      "Epoch 11/500\n",
      "Epoch 00010: val_acc did not improve\n",
      "24s - loss: 0.8223 - acc: 0.7636 - val_loss: 2.3290 - val_acc: 0.7318\n",
      "Epoch 12/500\n",
      "Epoch 00011: val_acc did not improve\n",
      "24s - loss: 0.8095 - acc: 0.7409 - val_loss: 1.5292 - val_acc: 0.8455\n",
      "Epoch 13/500\n",
      "Epoch 00012: val_acc did not improve\n",
      "24s - loss: 0.7477 - acc: 0.8000 - val_loss: 2.6317 - val_acc: 0.7773\n",
      "Epoch 14/500\n",
      "Epoch 00013: val_acc did not improve\n",
      "24s - loss: 0.7372 - acc: 0.7602 - val_loss: 1.8449 - val_acc: 0.8409\n",
      "Epoch 15/500\n",
      "Epoch 00014: val_acc did not improve\n",
      "24s - loss: 0.7255 - acc: 0.7739 - val_loss: 1.5568 - val_acc: 0.8318\n",
      "Epoch 16/500\n",
      "Epoch 00015: val_acc did not improve\n",
      "25s - loss: 0.7996 - acc: 0.7477 - val_loss: 1.6386 - val_acc: 0.8318\n",
      "Epoch 17/500\n",
      "Epoch 00016: val_acc did not improve\n",
      "24s - loss: 0.8111 - acc: 0.7489 - val_loss: 2.9762 - val_acc: 0.7636\n",
      "Epoch 18/500\n",
      "Epoch 00017: val_acc did not improve\n",
      "24s - loss: 0.7728 - acc: 0.7773 - val_loss: 1.8287 - val_acc: 0.8136\n",
      "Epoch 19/500\n",
      "Epoch 00018: val_acc did not improve\n",
      "24s - loss: 0.7536 - acc: 0.8091 - val_loss: 4.2833 - val_acc: 0.6909\n",
      "Epoch 20/500\n",
      "Epoch 00019: val_acc did not improve\n",
      "24s - loss: 0.8218 - acc: 0.7523 - val_loss: 2.3926 - val_acc: 0.7591\n",
      "Epoch 21/500\n",
      "Epoch 00020: val_acc did not improve\n",
      "24s - loss: 0.7201 - acc: 0.8125 - val_loss: 1.6460 - val_acc: 0.8136\n",
      "Epoch 22/500\n",
      "Epoch 00021: val_acc did not improve\n",
      "24s - loss: 0.7507 - acc: 0.7864 - val_loss: 1.8430 - val_acc: 0.8045\n",
      "Epoch 23/500\n",
      "Epoch 00022: val_acc did not improve\n",
      "24s - loss: 0.7947 - acc: 0.7705 - val_loss: 1.8289 - val_acc: 0.7864\n",
      "Epoch 24/500\n",
      "Epoch 00023: val_acc did not improve\n",
      "24s - loss: 0.8688 - acc: 0.7568 - val_loss: 1.9196 - val_acc: 0.8045\n",
      "Epoch 25/500\n",
      "Epoch 00024: val_acc did not improve\n",
      "24s - loss: 0.8232 - acc: 0.7409 - val_loss: 1.2527 - val_acc: 0.8500\n",
      "Epoch 26/500\n",
      "Epoch 00025: val_acc did not improve\n",
      "24s - loss: 0.7199 - acc: 0.7864 - val_loss: 2.2732 - val_acc: 0.8318\n",
      "Epoch 27/500\n",
      "Epoch 00026: val_acc did not improve\n",
      "24s - loss: 0.6967 - acc: 0.7670 - val_loss: 1.6285 - val_acc: 0.7227\n",
      "Epoch 28/500\n",
      "Epoch 00027: val_acc did not improve\n",
      "24s - loss: 0.7650 - acc: 0.7648 - val_loss: 1.8078 - val_acc: 0.8273\n",
      "Epoch 29/500\n",
      "Epoch 00028: val_acc did not improve\n",
      "24s - loss: 0.8069 - acc: 0.7398 - val_loss: 2.0569 - val_acc: 0.7955\n",
      "Epoch 30/500\n",
      "Epoch 00029: val_acc did not improve\n",
      "24s - loss: 0.7311 - acc: 0.7705 - val_loss: 2.4156 - val_acc: 0.8318\n",
      "Epoch 31/500\n",
      "Epoch 00030: val_acc did not improve\n",
      "24s - loss: 0.6564 - acc: 0.8023 - val_loss: 3.7010 - val_acc: 0.7864\n",
      "Epoch 32/500\n",
      "Epoch 00031: val_acc did not improve\n",
      "24s - loss: 0.8177 - acc: 0.7557 - val_loss: 2.9053 - val_acc: 0.7909\n",
      "Epoch 33/500\n",
      "Epoch 00032: val_acc did not improve\n",
      "24s - loss: 0.7393 - acc: 0.7716 - val_loss: 2.1615 - val_acc: 0.7364\n",
      "Epoch 34/500\n",
      "Epoch 00033: val_acc did not improve\n",
      "25s - loss: 0.6863 - acc: 0.7886 - val_loss: 4.8816 - val_acc: 0.7364\n",
      "Epoch 35/500\n",
      "Epoch 00034: val_acc did not improve\n",
      "24s - loss: 0.7390 - acc: 0.7580 - val_loss: 4.4216 - val_acc: 0.5773\n",
      "Epoch 36/500\n",
      "Epoch 00035: val_acc did not improve\n",
      "24s - loss: 0.7097 - acc: 0.7989 - val_loss: 3.0708 - val_acc: 0.7864\n",
      "Epoch 37/500\n",
      "Epoch 00036: val_acc did not improve\n",
      "24s - loss: 0.6740 - acc: 0.8080 - val_loss: 2.3459 - val_acc: 0.8136\n",
      "Epoch 38/500\n",
      "Epoch 00037: val_acc did not improve\n",
      "24s - loss: 0.6524 - acc: 0.7955 - val_loss: 4.3017 - val_acc: 0.7682\n",
      "Epoch 39/500\n",
      "Epoch 00038: val_acc did not improve\n",
      "24s - loss: 0.8796 - acc: 0.7284 - val_loss: 2.9576 - val_acc: 0.7955\n",
      "Epoch 40/500\n",
      "Epoch 00039: val_acc did not improve\n",
      "24s - loss: 0.7032 - acc: 0.7830 - val_loss: 1.8731 - val_acc: 0.8273\n",
      "Epoch 41/500\n",
      "Epoch 00040: val_acc did not improve\n",
      "24s - loss: 0.7711 - acc: 0.7955 - val_loss: 3.0001 - val_acc: 0.7682\n",
      "Epoch 42/500\n",
      "Epoch 00041: val_acc did not improve\n",
      "24s - loss: 0.6814 - acc: 0.8182 - val_loss: 3.4075 - val_acc: 0.7227\n",
      "Epoch 43/500\n",
      "Epoch 00042: val_acc did not improve\n",
      "24s - loss: 0.7469 - acc: 0.7886 - val_loss: 2.8365 - val_acc: 0.7636\n",
      "Epoch 44/500\n",
      "Epoch 00043: val_acc did not improve\n",
      "25s - loss: 0.6939 - acc: 0.8011 - val_loss: 1.9665 - val_acc: 0.8364\n",
      "Epoch 45/500\n",
      "Epoch 00044: val_acc did not improve\n",
      "24s - loss: 0.7500 - acc: 0.7807 - val_loss: 1.8423 - val_acc: 0.8182\n",
      "Epoch 46/500\n",
      "Epoch 00045: val_acc did not improve\n",
      "24s - loss: 0.6678 - acc: 0.8136 - val_loss: 2.2183 - val_acc: 0.8409\n",
      "Epoch 47/500\n",
      "Epoch 00046: val_acc did not improve\n",
      "25s - loss: 0.7320 - acc: 0.7841 - val_loss: 2.0401 - val_acc: 0.8273\n",
      "Epoch 48/500\n",
      "Epoch 00047: val_acc did not improve\n",
      "24s - loss: 0.7032 - acc: 0.7966 - val_loss: 2.0373 - val_acc: 0.8591\n",
      "Epoch 49/500\n",
      "Epoch 00048: val_acc did not improve\n",
      "24s - loss: 0.6689 - acc: 0.7955 - val_loss: 1.9799 - val_acc: 0.8227\n",
      "Epoch 50/500\n",
      "Epoch 00049: val_acc did not improve\n",
      "24s - loss: 0.7928 - acc: 0.7614 - val_loss: 1.2380 - val_acc: 0.7773\n",
      "Epoch 51/500\n",
      "Epoch 00050: val_acc did not improve\n",
      "24s - loss: 0.6901 - acc: 0.7852 - val_loss: 1.4226 - val_acc: 0.8409\n",
      "Epoch 52/500\n",
      "Epoch 00051: val_acc did not improve\n",
      "24s - loss: 0.6977 - acc: 0.8023 - val_loss: 3.0267 - val_acc: 0.7591\n",
      "Epoch 53/500\n",
      "Epoch 00052: val_acc did not improve\n",
      "24s - loss: 0.7220 - acc: 0.7750 - val_loss: 2.3499 - val_acc: 0.8591\n",
      "Epoch 54/500\n",
      "Epoch 00053: val_acc did not improve\n",
      "24s - loss: 0.6355 - acc: 0.8080 - val_loss: 1.2978 - val_acc: 0.8727\n",
      "Epoch 55/500\n",
      "Epoch 00054: val_acc did not improve\n",
      "24s - loss: 0.6124 - acc: 0.8511 - val_loss: 1.6035 - val_acc: 0.8455\n",
      "Epoch 56/500\n",
      "Epoch 00055: val_acc did not improve\n",
      "24s - loss: 0.6541 - acc: 0.8159 - val_loss: 2.9846 - val_acc: 0.7909\n",
      "Epoch 57/500\n",
      "Epoch 00056: val_acc did not improve\n",
      "24s - loss: 0.6961 - acc: 0.8182 - val_loss: 1.3001 - val_acc: 0.8409\n",
      "Epoch 58/500\n",
      "Epoch 00057: val_acc did not improve\n",
      "25s - loss: 0.6395 - acc: 0.8216 - val_loss: 1.8022 - val_acc: 0.8500\n",
      "Epoch 59/500\n",
      "Epoch 00058: val_acc did not improve\n",
      "24s - loss: 0.6800 - acc: 0.7943 - val_loss: 1.3481 - val_acc: 0.8455\n",
      "Epoch 60/500\n",
      "Epoch 00059: val_acc did not improve\n",
      "24s - loss: 0.6997 - acc: 0.7920 - val_loss: 2.0185 - val_acc: 0.8227\n",
      "Epoch 61/500\n",
      "Epoch 00060: val_acc did not improve\n",
      "24s - loss: 0.6550 - acc: 0.8205 - val_loss: 1.3968 - val_acc: 0.8318\n",
      "Epoch 62/500\n",
      "Epoch 00061: val_acc did not improve\n",
      "24s - loss: 0.6763 - acc: 0.8136 - val_loss: 2.2596 - val_acc: 0.8364\n",
      "Epoch 63/500\n",
      "Epoch 00062: val_acc did not improve\n",
      "24s - loss: 0.6562 - acc: 0.8159 - val_loss: 1.9248 - val_acc: 0.8500\n",
      "Epoch 64/500\n",
      "Epoch 00063: val_acc did not improve\n",
      "24s - loss: 0.6889 - acc: 0.8239 - val_loss: 1.6722 - val_acc: 0.8455\n",
      "Epoch 65/500\n",
      "Epoch 00064: val_acc did not improve\n",
      "25s - loss: 0.7361 - acc: 0.7989 - val_loss: 1.3242 - val_acc: 0.8318\n",
      "Epoch 66/500\n",
      "Epoch 00065: val_acc did not improve\n",
      "24s - loss: 0.6477 - acc: 0.8148 - val_loss: 2.4383 - val_acc: 0.7864\n",
      "Epoch 67/500\n",
      "Epoch 00066: val_acc did not improve\n",
      "24s - loss: 0.6521 - acc: 0.8364 - val_loss: 1.1936 - val_acc: 0.8000\n",
      "Epoch 68/500\n"
     ]
    },
    {
     "name": "stdout",
     "output_type": "stream",
     "text": [
      "Epoch 00067: val_acc did not improve\n",
      "24s - loss: 0.6916 - acc: 0.8011 - val_loss: 1.4448 - val_acc: 0.8545\n",
      "Epoch 69/500\n",
      "Epoch 00068: val_acc did not improve\n",
      "24s - loss: 0.6316 - acc: 0.8341 - val_loss: 2.3062 - val_acc: 0.8364\n",
      "Epoch 70/500\n",
      "Epoch 00069: val_acc did not improve\n",
      "24s - loss: 0.7010 - acc: 0.8034 - val_loss: 2.2869 - val_acc: 0.8227\n",
      "Epoch 71/500\n",
      "Epoch 00070: val_acc did not improve\n",
      "24s - loss: 0.6850 - acc: 0.8091 - val_loss: 3.5539 - val_acc: 0.8136\n",
      "Epoch 72/500\n",
      "Epoch 00071: val_acc did not improve\n",
      "25s - loss: 0.6992 - acc: 0.7989 - val_loss: 3.2885 - val_acc: 0.7455\n",
      "Epoch 73/500\n",
      "Epoch 00072: val_acc did not improve\n",
      "24s - loss: 0.6937 - acc: 0.8193 - val_loss: 1.3284 - val_acc: 0.7455\n",
      "Epoch 74/500\n",
      "Epoch 00073: val_acc did not improve\n",
      "24s - loss: 0.6254 - acc: 0.8159 - val_loss: 2.0278 - val_acc: 0.7227\n",
      "Epoch 75/500\n",
      "Epoch 00074: val_acc did not improve\n",
      "25s - loss: 0.6009 - acc: 0.8420 - val_loss: 3.4640 - val_acc: 0.7864\n",
      "Epoch 76/500\n",
      "Epoch 00075: val_acc did not improve\n",
      "24s - loss: 0.7094 - acc: 0.8261 - val_loss: 2.9419 - val_acc: 0.8364\n",
      "Epoch 77/500\n",
      "Epoch 00076: val_acc did not improve\n",
      "24s - loss: 0.5615 - acc: 0.8489 - val_loss: 3.0438 - val_acc: 0.8182\n",
      "Epoch 78/500\n",
      "Epoch 00077: val_acc did not improve\n",
      "24s - loss: 0.6642 - acc: 0.8239 - val_loss: 2.5112 - val_acc: 0.7909\n",
      "Epoch 79/500\n",
      "Epoch 00078: val_acc did not improve\n",
      "24s - loss: 0.7243 - acc: 0.8125 - val_loss: 1.5383 - val_acc: 0.8227\n",
      "Epoch 80/500\n",
      "Epoch 00079: val_acc did not improve\n",
      "24s - loss: 0.6823 - acc: 0.8295 - val_loss: 1.5137 - val_acc: 0.8364\n",
      "Epoch 81/500\n",
      "Epoch 00080: val_acc did not improve\n",
      "24s - loss: 0.6605 - acc: 0.8159 - val_loss: 1.8794 - val_acc: 0.8227\n",
      "Epoch 82/500\n",
      "Epoch 00081: val_acc did not improve\n",
      "24s - loss: 0.6928 - acc: 0.8114 - val_loss: 2.8775 - val_acc: 0.8091\n",
      "Epoch 83/500\n",
      "Epoch 00082: val_acc did not improve\n",
      "24s - loss: 0.6537 - acc: 0.8330 - val_loss: 1.3355 - val_acc: 0.8636\n",
      "Epoch 84/500\n",
      "Epoch 00083: val_acc did not improve\n",
      "24s - loss: 0.6359 - acc: 0.8193 - val_loss: 2.2125 - val_acc: 0.8500\n",
      "Epoch 85/500\n",
      "Epoch 00084: val_acc did not improve\n",
      "24s - loss: 0.6562 - acc: 0.8114 - val_loss: 2.1363 - val_acc: 0.8636\n",
      "Epoch 86/500\n",
      "Epoch 00085: val_acc did not improve\n",
      "24s - loss: 0.5733 - acc: 0.8420 - val_loss: 2.5731 - val_acc: 0.6773\n",
      "Epoch 87/500\n",
      "Epoch 00086: val_acc did not improve\n",
      "24s - loss: 0.6341 - acc: 0.8466 - val_loss: 2.7989 - val_acc: 0.8136\n",
      "Epoch 88/500\n",
      "Epoch 00087: val_acc did not improve\n",
      "24s - loss: 0.6444 - acc: 0.8420 - val_loss: 2.1920 - val_acc: 0.6045\n",
      "Epoch 89/500\n",
      "Epoch 00088: val_acc did not improve\n",
      "24s - loss: 0.6425 - acc: 0.8330 - val_loss: 1.6466 - val_acc: 0.8409\n",
      "Epoch 90/500\n",
      "Epoch 00089: val_acc did not improve\n",
      "24s - loss: 0.5909 - acc: 0.8227 - val_loss: 1.2776 - val_acc: 0.8364\n",
      "Epoch 91/500\n",
      "Epoch 00090: val_acc did not improve\n",
      "24s - loss: 0.6106 - acc: 0.8341 - val_loss: 2.4804 - val_acc: 0.8227\n",
      "Epoch 92/500\n",
      "Epoch 00091: val_acc did not improve\n",
      "24s - loss: 0.6608 - acc: 0.8295 - val_loss: 1.5316 - val_acc: 0.8545\n",
      "Epoch 93/500\n",
      "Epoch 00092: val_acc did not improve\n",
      "24s - loss: 0.6947 - acc: 0.8091 - val_loss: 2.2536 - val_acc: 0.8364\n",
      "Epoch 94/500\n",
      "Epoch 00093: val_acc did not improve\n",
      "24s - loss: 0.6253 - acc: 0.8227 - val_loss: 1.2986 - val_acc: 0.7909\n",
      "Epoch 95/500\n",
      "Epoch 00094: val_acc did not improve\n",
      "24s - loss: 0.6490 - acc: 0.8261 - val_loss: 1.6336 - val_acc: 0.8727\n",
      "Epoch 96/500\n",
      "Epoch 00095: val_acc improved from 0.87727 to 0.89091, saving model to weights-improvement-95-0.89.hdf5\n",
      "25s - loss: 0.5864 - acc: 0.8500 - val_loss: 1.2046 - val_acc: 0.8909\n",
      "Epoch 97/500\n",
      "Epoch 00096: val_acc did not improve\n",
      "24s - loss: 0.6197 - acc: 0.8330 - val_loss: 0.9072 - val_acc: 0.8636\n",
      "Epoch 98/500\n",
      "Epoch 00097: val_acc did not improve\n",
      "24s - loss: 0.6093 - acc: 0.8443 - val_loss: 1.7205 - val_acc: 0.8727\n",
      "Epoch 99/500\n",
      "Epoch 00098: val_acc did not improve\n",
      "24s - loss: 0.6838 - acc: 0.8216 - val_loss: 0.9197 - val_acc: 0.8500\n",
      "Epoch 100/500\n",
      "Epoch 00099: val_acc did not improve\n",
      "24s - loss: 0.6609 - acc: 0.8227 - val_loss: 1.0907 - val_acc: 0.8545\n",
      "Epoch 101/500\n",
      "Epoch 00100: val_acc did not improve\n",
      "24s - loss: 0.6215 - acc: 0.8375 - val_loss: 1.2109 - val_acc: 0.8136\n",
      "Epoch 102/500\n",
      "Epoch 00101: val_acc did not improve\n",
      "24s - loss: 0.6481 - acc: 0.8284 - val_loss: 1.4851 - val_acc: 0.8364\n",
      "Epoch 103/500\n",
      "Epoch 00102: val_acc improved from 0.89091 to 0.89091, saving model to weights-improvement-102-0.89.hdf5\n",
      "25s - loss: 0.6783 - acc: 0.8364 - val_loss: 0.8357 - val_acc: 0.8909\n",
      "Epoch 104/500\n",
      "Epoch 00103: val_acc did not improve\n",
      "24s - loss: 0.6852 - acc: 0.8068 - val_loss: 1.3323 - val_acc: 0.7864\n",
      "Epoch 105/500\n",
      "Epoch 00104: val_acc did not improve\n",
      "24s - loss: 0.5884 - acc: 0.8489 - val_loss: 2.5513 - val_acc: 0.7864\n",
      "Epoch 106/500\n",
      "Epoch 00105: val_acc did not improve\n",
      "24s - loss: 0.6151 - acc: 0.8557 - val_loss: 1.5414 - val_acc: 0.8182\n",
      "Epoch 107/500\n",
      "Epoch 00106: val_acc did not improve\n",
      "24s - loss: 0.6119 - acc: 0.8330 - val_loss: 1.2344 - val_acc: 0.8591\n",
      "Epoch 108/500\n",
      "Epoch 00107: val_acc did not improve\n",
      "24s - loss: 0.5610 - acc: 0.8307 - val_loss: 1.7857 - val_acc: 0.8409\n",
      "Epoch 109/500\n",
      "Epoch 00108: val_acc did not improve\n",
      "24s - loss: 0.6871 - acc: 0.8000 - val_loss: 1.3194 - val_acc: 0.8409\n",
      "Epoch 110/500\n",
      "Epoch 00109: val_acc did not improve\n",
      "24s - loss: 0.6080 - acc: 0.8466 - val_loss: 1.3677 - val_acc: 0.8455\n",
      "Epoch 111/500\n",
      "Epoch 00110: val_acc did not improve\n",
      "24s - loss: 0.6258 - acc: 0.8341 - val_loss: 0.9104 - val_acc: 0.8455\n",
      "Epoch 112/500\n",
      "Epoch 00111: val_acc did not improve\n",
      "24s - loss: 0.6462 - acc: 0.8136 - val_loss: 1.1946 - val_acc: 0.8545\n",
      "Epoch 113/500\n",
      "Epoch 00112: val_acc did not improve\n",
      "24s - loss: 0.5705 - acc: 0.8398 - val_loss: 1.1921 - val_acc: 0.8500\n",
      "Epoch 114/500\n",
      "Epoch 00113: val_acc did not improve\n",
      "24s - loss: 0.6556 - acc: 0.8148 - val_loss: 0.9938 - val_acc: 0.8636\n",
      "Epoch 115/500\n",
      "Epoch 00114: val_acc did not improve\n",
      "24s - loss: 0.5753 - acc: 0.8386 - val_loss: 1.5657 - val_acc: 0.7727\n",
      "Epoch 116/500\n",
      "Epoch 00115: val_acc did not improve\n",
      "24s - loss: 0.5945 - acc: 0.8489 - val_loss: 1.3678 - val_acc: 0.8409\n",
      "Epoch 117/500\n",
      "Epoch 00116: val_acc did not improve\n",
      "24s - loss: 0.7377 - acc: 0.7977 - val_loss: 1.6859 - val_acc: 0.8136\n",
      "Epoch 118/500\n",
      "Epoch 00117: val_acc did not improve\n",
      "24s - loss: 0.6316 - acc: 0.8318 - val_loss: 1.8946 - val_acc: 0.7273\n",
      "Epoch 119/500\n",
      "Epoch 00118: val_acc did not improve\n",
      "24s - loss: 0.6248 - acc: 0.8318 - val_loss: 1.3183 - val_acc: 0.8545\n",
      "Epoch 120/500\n",
      "Epoch 00119: val_acc did not improve\n",
      "24s - loss: 0.6480 - acc: 0.8045 - val_loss: 2.3468 - val_acc: 0.8091\n",
      "Epoch 121/500\n",
      "Epoch 00120: val_acc did not improve\n",
      "24s - loss: 0.6517 - acc: 0.8136 - val_loss: 1.6666 - val_acc: 0.7773\n",
      "Epoch 122/500\n",
      "Epoch 00121: val_acc did not improve\n",
      "24s - loss: 0.6848 - acc: 0.8011 - val_loss: 1.7204 - val_acc: 0.7773\n",
      "Epoch 123/500\n",
      "Epoch 00122: val_acc did not improve\n",
      "24s - loss: 0.6579 - acc: 0.8239 - val_loss: 1.1053 - val_acc: 0.8500\n",
      "Epoch 124/500\n",
      "Epoch 00123: val_acc did not improve\n",
      "24s - loss: 0.6315 - acc: 0.8443 - val_loss: 2.0139 - val_acc: 0.8227\n",
      "Epoch 125/500\n",
      "Epoch 00124: val_acc did not improve\n",
      "24s - loss: 0.6823 - acc: 0.8080 - val_loss: 1.4475 - val_acc: 0.8591\n",
      "Epoch 126/500\n",
      "Epoch 00125: val_acc did not improve\n",
      "24s - loss: 0.7340 - acc: 0.7761 - val_loss: 1.8762 - val_acc: 0.8545\n",
      "Epoch 127/500\n",
      "Epoch 00126: val_acc did not improve\n",
      "24s - loss: 0.6811 - acc: 0.8057 - val_loss: 1.6249 - val_acc: 0.8364\n",
      "Epoch 128/500\n",
      "Epoch 00127: val_acc did not improve\n",
      "24s - loss: 0.6133 - acc: 0.8443 - val_loss: 1.9231 - val_acc: 0.8273\n",
      "Epoch 129/500\n",
      "Epoch 00128: val_acc did not improve\n",
      "24s - loss: 0.5989 - acc: 0.8432 - val_loss: 1.6648 - val_acc: 0.8227\n",
      "Epoch 130/500\n",
      "Epoch 00129: val_acc did not improve\n",
      "24s - loss: 0.6634 - acc: 0.8182 - val_loss: 1.0729 - val_acc: 0.8136\n",
      "Epoch 131/500\n",
      "Epoch 00130: val_acc did not improve\n",
      "24s - loss: 0.5553 - acc: 0.8716 - val_loss: 2.1145 - val_acc: 0.7045\n",
      "Epoch 132/500\n",
      "Epoch 00131: val_acc did not improve\n",
      "24s - loss: 0.6724 - acc: 0.8261 - val_loss: 1.7860 - val_acc: 0.7045\n",
      "Epoch 133/500\n",
      "Epoch 00132: val_acc did not improve\n",
      "24s - loss: 0.6929 - acc: 0.8068 - val_loss: 2.3688 - val_acc: 0.7773\n",
      "Epoch 134/500\n",
      "Epoch 00133: val_acc did not improve\n",
      "24s - loss: 0.6117 - acc: 0.8364 - val_loss: 1.9211 - val_acc: 0.8182\n",
      "Epoch 135/500\n"
     ]
    },
    {
     "name": "stdout",
     "output_type": "stream",
     "text": [
      "Epoch 00134: val_acc did not improve\n",
      "24s - loss: 0.6299 - acc: 0.8216 - val_loss: 2.1862 - val_acc: 0.8136\n",
      "Epoch 136/500\n",
      "Epoch 00135: val_acc did not improve\n",
      "24s - loss: 0.5805 - acc: 0.8500 - val_loss: 3.0028 - val_acc: 0.7909\n",
      "Epoch 137/500\n",
      "Epoch 00136: val_acc did not improve\n",
      "24s - loss: 0.5852 - acc: 0.8523 - val_loss: 2.2759 - val_acc: 0.8273\n",
      "Epoch 138/500\n",
      "Epoch 00137: val_acc did not improve\n",
      "24s - loss: 0.5945 - acc: 0.8591 - val_loss: 2.4857 - val_acc: 0.7955\n",
      "Epoch 139/500\n",
      "Epoch 00138: val_acc did not improve\n",
      "24s - loss: 0.6378 - acc: 0.8193 - val_loss: 1.6099 - val_acc: 0.8045\n",
      "Epoch 140/500\n",
      "Epoch 00139: val_acc did not improve\n",
      "24s - loss: 0.6342 - acc: 0.8114 - val_loss: 1.6384 - val_acc: 0.8273\n",
      "Epoch 141/500\n",
      "Epoch 00140: val_acc did not improve\n",
      "24s - loss: 0.6575 - acc: 0.8307 - val_loss: 1.6868 - val_acc: 0.7182\n",
      "Epoch 142/500\n",
      "Epoch 00141: val_acc did not improve\n",
      "24s - loss: 0.6017 - acc: 0.8580 - val_loss: 1.7957 - val_acc: 0.7864\n",
      "Epoch 143/500\n",
      "Epoch 00142: val_acc did not improve\n",
      "24s - loss: 0.6010 - acc: 0.8477 - val_loss: 2.5482 - val_acc: 0.8182\n",
      "Epoch 144/500\n",
      "Epoch 00143: val_acc did not improve\n",
      "24s - loss: 0.5244 - acc: 0.8784 - val_loss: 1.6256 - val_acc: 0.8000\n",
      "Epoch 145/500\n",
      "Epoch 00144: val_acc did not improve\n",
      "24s - loss: 0.5778 - acc: 0.8534 - val_loss: 1.5479 - val_acc: 0.8091\n",
      "Epoch 146/500\n",
      "Epoch 00145: val_acc did not improve\n",
      "24s - loss: 0.6141 - acc: 0.8489 - val_loss: 2.0755 - val_acc: 0.8227\n",
      "Epoch 147/500\n",
      "Epoch 00146: val_acc did not improve\n",
      "24s - loss: 0.6499 - acc: 0.8409 - val_loss: 1.3373 - val_acc: 0.8182\n",
      "Epoch 148/500\n",
      "Epoch 00147: val_acc did not improve\n",
      "24s - loss: 0.6338 - acc: 0.8330 - val_loss: 1.4804 - val_acc: 0.8136\n",
      "Epoch 149/500\n",
      "Epoch 00148: val_acc did not improve\n",
      "24s - loss: 0.6030 - acc: 0.8443 - val_loss: 1.2705 - val_acc: 0.8273\n",
      "Epoch 150/500\n",
      "Epoch 00149: val_acc did not improve\n",
      "24s - loss: 0.5619 - acc: 0.8602 - val_loss: 1.8389 - val_acc: 0.8091\n",
      "Epoch 151/500\n",
      "Epoch 00150: val_acc did not improve\n",
      "24s - loss: 0.5789 - acc: 0.8625 - val_loss: 1.6572 - val_acc: 0.8409\n",
      "Epoch 152/500\n",
      "Epoch 00151: val_acc did not improve\n",
      "24s - loss: 0.5793 - acc: 0.8545 - val_loss: 1.7874 - val_acc: 0.7864\n",
      "Epoch 153/500\n",
      "Epoch 00152: val_acc did not improve\n",
      "24s - loss: 0.6294 - acc: 0.8364 - val_loss: 1.3745 - val_acc: 0.7909\n",
      "Epoch 154/500\n",
      "Epoch 00153: val_acc did not improve\n",
      "24s - loss: 0.6390 - acc: 0.8261 - val_loss: 1.1085 - val_acc: 0.8227\n",
      "Epoch 155/500\n",
      "Epoch 00154: val_acc did not improve\n",
      "24s - loss: 0.6144 - acc: 0.8250 - val_loss: 1.9965 - val_acc: 0.8182\n",
      "Epoch 156/500\n",
      "Epoch 00155: val_acc did not improve\n",
      "24s - loss: 0.6014 - acc: 0.8693 - val_loss: 1.4029 - val_acc: 0.8182\n",
      "Epoch 157/500\n",
      "Epoch 00156: val_acc did not improve\n",
      "24s - loss: 0.6060 - acc: 0.8307 - val_loss: 1.7687 - val_acc: 0.8182\n",
      "Epoch 158/500\n",
      "Epoch 00157: val_acc did not improve\n",
      "24s - loss: 0.6974 - acc: 0.8239 - val_loss: 1.3471 - val_acc: 0.8409\n",
      "Epoch 159/500\n",
      "Epoch 00158: val_acc did not improve\n",
      "24s - loss: 0.5439 - acc: 0.8477 - val_loss: 1.1801 - val_acc: 0.8273\n",
      "Epoch 160/500\n",
      "Epoch 00159: val_acc did not improve\n",
      "24s - loss: 0.5930 - acc: 0.8409 - val_loss: 1.3480 - val_acc: 0.8227\n",
      "Epoch 161/500\n",
      "Epoch 00160: val_acc did not improve\n",
      "24s - loss: 0.6303 - acc: 0.8239 - val_loss: 1.3787 - val_acc: 0.6227\n",
      "Epoch 162/500\n",
      "Epoch 00161: val_acc did not improve\n",
      "24s - loss: 0.6591 - acc: 0.8159 - val_loss: 1.1080 - val_acc: 0.8091\n",
      "Epoch 163/500\n",
      "Epoch 00162: val_acc did not improve\n",
      "24s - loss: 0.6060 - acc: 0.8273 - val_loss: 1.6836 - val_acc: 0.8409\n",
      "Epoch 164/500\n",
      "Epoch 00163: val_acc did not improve\n",
      "24s - loss: 0.6046 - acc: 0.8375 - val_loss: 0.8271 - val_acc: 0.8591\n",
      "Epoch 165/500\n",
      "Epoch 00164: val_acc did not improve\n",
      "24s - loss: 0.6224 - acc: 0.8205 - val_loss: 0.9655 - val_acc: 0.8636\n",
      "Epoch 166/500\n",
      "Epoch 00165: val_acc did not improve\n",
      "24s - loss: 0.5613 - acc: 0.8568 - val_loss: 1.4702 - val_acc: 0.8636\n",
      "Epoch 167/500\n",
      "Epoch 00166: val_acc did not improve\n",
      "24s - loss: 0.6213 - acc: 0.8227 - val_loss: 0.9842 - val_acc: 0.8500\n",
      "Epoch 168/500\n",
      "Epoch 00167: val_acc did not improve\n",
      "24s - loss: 0.5987 - acc: 0.8409 - val_loss: 1.3435 - val_acc: 0.8227\n",
      "Epoch 169/500\n",
      "Epoch 00168: val_acc did not improve\n",
      "24s - loss: 0.6067 - acc: 0.8386 - val_loss: 2.6792 - val_acc: 0.8091\n",
      "Epoch 170/500\n",
      "Epoch 00169: val_acc did not improve\n",
      "24s - loss: 0.6680 - acc: 0.8227 - val_loss: 1.0813 - val_acc: 0.8136\n",
      "Epoch 171/500\n",
      "Epoch 00170: val_acc did not improve\n",
      "24s - loss: 0.6196 - acc: 0.8511 - val_loss: 0.9606 - val_acc: 0.8409\n",
      "Epoch 172/500\n",
      "Epoch 00171: val_acc did not improve\n",
      "24s - loss: 0.5604 - acc: 0.8500 - val_loss: 1.5007 - val_acc: 0.8636\n",
      "Epoch 173/500\n",
      "Epoch 00172: val_acc did not improve\n",
      "24s - loss: 0.6051 - acc: 0.8352 - val_loss: 1.5995 - val_acc: 0.8227\n",
      "Epoch 174/500\n",
      "Epoch 00173: val_acc did not improve\n",
      "24s - loss: 0.5771 - acc: 0.8477 - val_loss: 1.7192 - val_acc: 0.8273\n",
      "Epoch 175/500\n",
      "Epoch 00174: val_acc did not improve\n",
      "24s - loss: 0.6228 - acc: 0.8545 - val_loss: 1.2894 - val_acc: 0.8500\n",
      "Epoch 176/500\n",
      "Epoch 00175: val_acc did not improve\n",
      "24s - loss: 0.4996 - acc: 0.8693 - val_loss: 1.3513 - val_acc: 0.8136\n",
      "Epoch 177/500\n",
      "Epoch 00176: val_acc did not improve\n",
      "24s - loss: 0.5445 - acc: 0.8455 - val_loss: 1.1533 - val_acc: 0.8318\n",
      "Epoch 178/500\n",
      "Epoch 00177: val_acc did not improve\n",
      "24s - loss: 0.5771 - acc: 0.8591 - val_loss: 1.4403 - val_acc: 0.7682\n",
      "Epoch 179/500\n",
      "Epoch 00178: val_acc did not improve\n",
      "24s - loss: 0.5808 - acc: 0.8557 - val_loss: 1.0746 - val_acc: 0.8818\n",
      "Epoch 180/500\n",
      "Epoch 00179: val_acc did not improve\n",
      "24s - loss: 0.6650 - acc: 0.8193 - val_loss: 1.3227 - val_acc: 0.8545\n",
      "Epoch 181/500\n",
      "Epoch 00180: val_acc did not improve\n",
      "24s - loss: 0.5815 - acc: 0.8375 - val_loss: 1.4876 - val_acc: 0.8364\n",
      "Epoch 182/500\n",
      "Epoch 00181: val_acc did not improve\n",
      "24s - loss: 0.6077 - acc: 0.8432 - val_loss: 1.6928 - val_acc: 0.6591\n",
      "Epoch 183/500\n",
      "Epoch 00182: val_acc did not improve\n",
      "24s - loss: 0.6092 - acc: 0.8330 - val_loss: 1.1634 - val_acc: 0.8545\n",
      "Epoch 184/500\n",
      "Epoch 00183: val_acc did not improve\n",
      "24s - loss: 0.6394 - acc: 0.8273 - val_loss: 1.2674 - val_acc: 0.8682\n",
      "Epoch 185/500\n",
      "Epoch 00184: val_acc did not improve\n",
      "24s - loss: 0.5851 - acc: 0.8739 - val_loss: 2.6076 - val_acc: 0.6591\n",
      "Epoch 186/500\n",
      "Epoch 00185: val_acc did not improve\n",
      "24s - loss: 0.4949 - acc: 0.8830 - val_loss: 1.7883 - val_acc: 0.8409\n",
      "Epoch 187/500\n",
      "Epoch 00186: val_acc did not improve\n",
      "24s - loss: 0.5860 - acc: 0.8330 - val_loss: 0.8892 - val_acc: 0.8000\n",
      "Epoch 188/500\n",
      "Epoch 00187: val_acc did not improve\n",
      "24s - loss: 0.6545 - acc: 0.8273 - val_loss: 1.1657 - val_acc: 0.7545\n",
      "Epoch 189/500\n",
      "Epoch 00188: val_acc did not improve\n",
      "24s - loss: 0.5901 - acc: 0.8375 - val_loss: 1.0349 - val_acc: 0.8773\n",
      "Epoch 190/500\n",
      "Epoch 00189: val_acc did not improve\n",
      "24s - loss: 0.5021 - acc: 0.8602 - val_loss: 1.2513 - val_acc: 0.8500\n",
      "Epoch 191/500\n",
      "Epoch 00190: val_acc did not improve\n",
      "25s - loss: 0.6757 - acc: 0.8216 - val_loss: 1.2384 - val_acc: 0.8500\n",
      "Epoch 192/500\n",
      "Epoch 00191: val_acc did not improve\n",
      "24s - loss: 0.6043 - acc: 0.8375 - val_loss: 1.2788 - val_acc: 0.8591\n",
      "Epoch 193/500\n",
      "Epoch 00192: val_acc did not improve\n",
      "24s - loss: 0.6294 - acc: 0.8364 - val_loss: 0.9701 - val_acc: 0.8227\n",
      "Epoch 194/500\n",
      "Epoch 00193: val_acc did not improve\n",
      "24s - loss: 0.5604 - acc: 0.8670 - val_loss: 1.4946 - val_acc: 0.8591\n",
      "Epoch 195/500\n",
      "Epoch 00194: val_acc did not improve\n",
      "24s - loss: 0.6104 - acc: 0.8466 - val_loss: 1.3211 - val_acc: 0.8273\n",
      "Epoch 196/500\n",
      "Epoch 00195: val_acc did not improve\n",
      "24s - loss: 0.5681 - acc: 0.8659 - val_loss: 1.1229 - val_acc: 0.8227\n",
      "Epoch 197/500\n",
      "Epoch 00196: val_acc did not improve\n",
      "24s - loss: 0.5720 - acc: 0.8670 - val_loss: 1.2822 - val_acc: 0.8409\n",
      "Epoch 198/500\n",
      "Epoch 00197: val_acc did not improve\n",
      "24s - loss: 0.6142 - acc: 0.8330 - val_loss: 1.8117 - val_acc: 0.8136\n",
      "Epoch 199/500\n",
      "Epoch 00198: val_acc did not improve\n",
      "24s - loss: 0.5984 - acc: 0.8227 - val_loss: 1.4497 - val_acc: 0.8227\n",
      "Epoch 200/500\n",
      "Epoch 00199: val_acc did not improve\n",
      "24s - loss: 0.6059 - acc: 0.8364 - val_loss: 1.1769 - val_acc: 0.8364\n",
      "Epoch 201/500\n",
      "Epoch 00200: val_acc did not improve\n",
      "24s - loss: 0.5783 - acc: 0.8261 - val_loss: 1.9700 - val_acc: 0.8000\n",
      "Epoch 202/500\n",
      "Epoch 00201: val_acc did not improve\n",
      "25s - loss: 0.5912 - acc: 0.8466 - val_loss: 1.4833 - val_acc: 0.8136\n",
      "Epoch 203/500\n"
     ]
    },
    {
     "name": "stdout",
     "output_type": "stream",
     "text": [
      "Epoch 00202: val_acc did not improve\n",
      "25s - loss: 0.6404 - acc: 0.8523 - val_loss: 1.2807 - val_acc: 0.8364\n",
      "Epoch 204/500\n",
      "Epoch 00203: val_acc did not improve\n",
      "24s - loss: 0.6342 - acc: 0.8330 - val_loss: 1.0719 - val_acc: 0.8000\n",
      "Epoch 205/500\n",
      "Epoch 00204: val_acc did not improve\n",
      "25s - loss: 0.5490 - acc: 0.8500 - val_loss: 1.2687 - val_acc: 0.8682\n",
      "Epoch 206/500\n",
      "Epoch 00205: val_acc did not improve\n",
      "24s - loss: 0.6231 - acc: 0.8341 - val_loss: 0.9193 - val_acc: 0.8500\n",
      "Epoch 207/500\n",
      "Epoch 00206: val_acc did not improve\n",
      "24s - loss: 0.4949 - acc: 0.8614 - val_loss: 1.4101 - val_acc: 0.8545\n",
      "Epoch 208/500\n",
      "Epoch 00207: val_acc did not improve\n",
      "25s - loss: 0.6803 - acc: 0.8114 - val_loss: 1.2233 - val_acc: 0.7864\n",
      "Epoch 209/500\n",
      "Epoch 00208: val_acc did not improve\n",
      "25s - loss: 0.5270 - acc: 0.8716 - val_loss: 1.3018 - val_acc: 0.8409\n",
      "Epoch 210/500\n",
      "Epoch 00209: val_acc did not improve\n",
      "24s - loss: 0.5793 - acc: 0.8511 - val_loss: 1.2839 - val_acc: 0.8545\n",
      "Epoch 211/500\n",
      "Epoch 00210: val_acc did not improve\n",
      "24s - loss: 0.5418 - acc: 0.8398 - val_loss: 1.6435 - val_acc: 0.7000\n",
      "Epoch 212/500\n"
     ]
    }
   ],
   "source": [
    "#running the model with callbacks\n",
    "model.fit(X_train[0:1100], y_train[0:1100], nb_epoch=500, batch_size=7, verbose=2, validation_split=0.2, shuffle=True, class_weight = class_weight ,callbacks=[tense,checkpoint])"
   ]
  },
  {
   "cell_type": "code",
   "execution_count": null,
   "metadata": {
    "collapsed": true
   },
   "outputs": [],
   "source": []
  },
  {
   "cell_type": "code",
   "execution_count": null,
   "metadata": {
    "collapsed": true
   },
   "outputs": [],
   "source": []
  },
  {
   "cell_type": "code",
   "execution_count": 51,
   "metadata": {
    "collapsed": true
   },
   "outputs": [],
   "source": [
    "y_pred=model.predict(X_train[1100:])\n"
   ]
  },
  {
   "cell_type": "code",
   "execution_count": 57,
   "metadata": {
    "collapsed": true
   },
   "outputs": [],
   "source": [
    "#tensorboard logdir=. --port 6012\n"
   ]
  },
  {
   "cell_type": "code",
   "execution_count": 53,
   "metadata": {
    "collapsed": true
   },
   "outputs": [],
   "source": [
    "# TURN SIGMOID VALUES INTO BINARY LABEL \n",
    "yp=y_pred\n",
    "for i in range(1100,1351):\n",
    "    if np.abs(y_pred[i-1100]-1)>0.5:\n",
    "        yp[i-1100]= 0 \n",
    "    else:\n",
    "        yp[i-1100]=1"
   ]
  },
  {
   "cell_type": "code",
   "execution_count": 54,
   "metadata": {},
   "outputs": [
    {
     "data": {
      "text/plain": [
       "array([[163,  19],\n",
       "       [  7,  62]], dtype=int64)"
      ]
     },
     "execution_count": 54,
     "metadata": {},
     "output_type": "execute_result"
    }
   ],
   "source": [
    "\n",
    "from sklearn.metrics import confusion_matrix\n",
    "confusion_matrix(y_train[1100:1351], yp)"
   ]
  },
  {
   "cell_type": "code",
   "execution_count": 60,
   "metadata": {},
   "outputs": [
    {
     "name": "stdout",
     "output_type": "stream",
     "text": [
      "             precision    recall  f1-score   support\n",
      "\n",
      "          0       0.96      0.90      0.93       182\n",
      "          1       0.77      0.90      0.83        69\n",
      "\n",
      "avg / total       0.91      0.90      0.90       251\n",
      "\n"
     ]
    }
   ],
   "source": [
    "from sklearn.metrics import classification_report\n",
    "\n",
    "print(classification_report(y_train[1100:1351], yp))"
   ]
  },
  {
   "cell_type": "code",
   "execution_count": null,
   "metadata": {},
   "outputs": [],
   "source": []
  },
  {
   "cell_type": "code",
   "execution_count": 49,
   "metadata": {},
   "outputs": [],
   "source": [
    "model.load_weights('weights-improvement-08-0.90.hdf5')"
   ]
  },
  {
   "cell_type": "code",
   "execution_count": 50,
   "metadata": {},
   "outputs": [
    {
     "data": {
      "text/plain": [
       "array([[166,  16],\n",
       "       [ 49,  20]], dtype=int64)"
      ]
     },
     "execution_count": 50,
     "metadata": {},
     "output_type": "execute_result"
    }
   ],
   "source": [
    "yp=y_pred\n",
    "from sklearn.metrics import confusion_matrix\n",
    "confusion_matrix(y_train[1100:1351], yp)"
   ]
  },
  {
   "cell_type": "code",
   "execution_count": null,
   "metadata": {
    "collapsed": true
   },
   "outputs": [],
   "source": [
    "metrics.classification_repport(y_train[1100:1351], yp)"
   ]
  },
  {
   "cell_type": "code",
   "execution_count": null,
   "metadata": {},
   "outputs": [],
   "source": [
    "model.load_weights('weights-improvement-24-0.77.hdf5')"
   ]
  },
  {
   "cell_type": "code",
   "execution_count": null,
   "metadata": {
    "collapsed": true
   },
   "outputs": [],
   "source": [
    "yp=y_pred\n",
    "from sklearn.metrics import confusion_matrix\n",
    "confusion_matrix(y_train[1100:1351], yp)"
   ]
  },
  {
   "cell_type": "code",
   "execution_count": null,
   "metadata": {
    "collapsed": true
   },
   "outputs": [],
   "source": []
  },
  {
   "cell_type": "code",
   "execution_count": null,
   "metadata": {
    "collapsed": true
   },
   "outputs": [],
   "source": []
  },
  {
   "cell_type": "code",
   "execution_count": 67,
   "metadata": {},
   "outputs": [
    {
     "data": {
      "text/plain": [
       "2.8271954674220963"
      ]
     },
     "execution_count": 67,
     "metadata": {},
     "output_type": "execute_result"
    }
   ],
   "source": [
    "(1351-353)/353"
   ]
  },
  {
   "cell_type": "code",
   "execution_count": null,
   "metadata": {},
   "outputs": [],
   "source": []
  },
  {
   "cell_type": "code",
   "execution_count": null,
   "metadata": {
    "collapsed": true
   },
   "outputs": [],
   "source": []
  },
  {
   "cell_type": "code",
   "execution_count": null,
   "metadata": {
    "collapsed": true
   },
   "outputs": [],
   "source": [
    "from keras.preprocessing.image import ImageDataGenerator\n",
    "from keras.callbacks import *\n",
    "datagen = ImageDataGenerator(\n",
    "    featurewise_center=True,\n",
    "    featurewise_std_normalization=True,\n",
    "    rotation_range=20,\n",
    "    width_shift_range=0.2,\n",
    "    height_shift_range=0.2,\n",
    "    horizontal_flip=True)\n",
    "datagen.fit(X_train)\n",
    "tense = keras.callbacks.TensorBoard(log_dir='./Graph', histogram_freq=1, write_graph=True, write_images=False)\n",
    "tense.set_model(model)\n",
    "class_weight = {0 : 1.,1: 3.82}\n",
    "filepath=\"weights-improvement-{epoch:02d}-{val_acc:.2f}.hdf5\"\n",
    "checkpoint = ModelCheckpoint(filepath, monitor='val_acc', verbose=1, save_best_only=True, mode='max') \n",
    "model.fit_generator(datagen.flow(X_train[0:900], y_train[0:900], batch_size=6),steps_per_epoch=90, class_weight = class_weight, epochs=100, verbose=2, validation_data=(X_train[900:1100], y_train[900:1100]),callbacks=[tense,checkpoint])\n"
   ]
  }
 ],
 "metadata": {
  "kernelspec": {
   "display_name": "Python 3",
   "language": "python",
   "name": "python3"
  },
  "language_info": {
   "codemirror_mode": {
    "name": "ipython",
    "version": 3
   },
   "file_extension": ".py",
   "mimetype": "text/x-python",
   "name": "python",
   "nbconvert_exporter": "python",
   "pygments_lexer": "ipython3",
   "version": "3.6.2"
  }
 },
 "nbformat": 4,
 "nbformat_minor": 2
}
